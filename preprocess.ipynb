{
 "cells": [
  {
   "attachments": {},
   "cell_type": "markdown",
   "metadata": {},
   "source": [
    "# Preprocessing"
   ]
  },
  {
   "attachments": {},
   "cell_type": "markdown",
   "metadata": {},
   "source": [
    "### Read the Enron datasets"
   ]
  },
  {
   "cell_type": "code",
   "execution_count": 1,
   "metadata": {},
   "outputs": [
    {
     "data": {
      "text/html": [
       "<div>\n",
       "<style scoped>\n",
       "    .dataframe tbody tr th:only-of-type {\n",
       "        vertical-align: middle;\n",
       "    }\n",
       "\n",
       "    .dataframe tbody tr th {\n",
       "        vertical-align: top;\n",
       "    }\n",
       "\n",
       "    .dataframe thead th {\n",
       "        text-align: right;\n",
       "    }\n",
       "</style>\n",
       "<table border=\"1\" class=\"dataframe\">\n",
       "  <thead>\n",
       "    <tr style=\"text-align: right;\">\n",
       "      <th></th>\n",
       "      <th>file</th>\n",
       "      <th>message</th>\n",
       "    </tr>\n",
       "  </thead>\n",
       "  <tbody>\n",
       "    <tr>\n",
       "      <th>0</th>\n",
       "      <td>allen-p/_sent_mail/1.</td>\n",
       "      <td>Message-ID: &lt;18782981.1075855378110.JavaMail.e...</td>\n",
       "    </tr>\n",
       "    <tr>\n",
       "      <th>1</th>\n",
       "      <td>allen-p/_sent_mail/10.</td>\n",
       "      <td>Message-ID: &lt;15464986.1075855378456.JavaMail.e...</td>\n",
       "    </tr>\n",
       "    <tr>\n",
       "      <th>2</th>\n",
       "      <td>allen-p/_sent_mail/100.</td>\n",
       "      <td>Message-ID: &lt;24216240.1075855687451.JavaMail.e...</td>\n",
       "    </tr>\n",
       "    <tr>\n",
       "      <th>3</th>\n",
       "      <td>allen-p/_sent_mail/1000.</td>\n",
       "      <td>Message-ID: &lt;13505866.1075863688222.JavaMail.e...</td>\n",
       "    </tr>\n",
       "    <tr>\n",
       "      <th>4</th>\n",
       "      <td>allen-p/_sent_mail/1001.</td>\n",
       "      <td>Message-ID: &lt;30922949.1075863688243.JavaMail.e...</td>\n",
       "    </tr>\n",
       "  </tbody>\n",
       "</table>\n",
       "</div>"
      ],
      "text/plain": [
       "                       file                                            message\n",
       "0     allen-p/_sent_mail/1.  Message-ID: <18782981.1075855378110.JavaMail.e...\n",
       "1    allen-p/_sent_mail/10.  Message-ID: <15464986.1075855378456.JavaMail.e...\n",
       "2   allen-p/_sent_mail/100.  Message-ID: <24216240.1075855687451.JavaMail.e...\n",
       "3  allen-p/_sent_mail/1000.  Message-ID: <13505866.1075863688222.JavaMail.e...\n",
       "4  allen-p/_sent_mail/1001.  Message-ID: <30922949.1075863688243.JavaMail.e..."
      ]
     },
     "execution_count": 1,
     "metadata": {},
     "output_type": "execute_result"
    }
   ],
   "source": [
    "import pandas as pd\n",
    "\n",
    "df = pd.read_csv(\"./emails.csv\")\n",
    "df.head()"
   ]
  },
  {
   "cell_type": "code",
   "execution_count": 2,
   "metadata": {},
   "outputs": [],
   "source": [
    "import email\n",
    "messages = df['message'].values.tolist()\n",
    "# emails = [  for messsage in messages: email.message_from_string(message)]\n",
    "# emails = [] \n",
    "# for message in messages:\n",
    "#     e = email.message_from_string(message)\n",
    "#     emails.append(e)"
   ]
  },
  {
   "attachments": {},
   "cell_type": "markdown",
   "metadata": {},
   "source": []
  },
  {
   "cell_type": "code",
   "execution_count": 3,
   "metadata": {},
   "outputs": [],
   "source": [
    "def body(messages):\n",
    "    column = []\n",
    "    for message in messages:\n",
    "        e = email.message_from_string(message)\n",
    "        msg = e.get_payload()\n",
    "        # -----Original Message----- 以降を切り捨てる\n",
    "        list1 = msg.split(\"-----Original Message-----\")\n",
    "        if len(list1) >0:\n",
    "            msg = list1[0]\n",
    "        \n",
    "        column.append(msg)\n",
    "    return column"
   ]
  },
  {
   "cell_type": "code",
   "execution_count": 4,
   "metadata": {},
   "outputs": [],
   "source": [
    "def author(messages):\n",
    "    column = []\n",
    "    for message in messages:\n",
    "        e = email.message_from_string(message)\n",
    "        msg = e.get('From')\n",
    "        ## If you use 'X-From'\n",
    "        # if msg is None:\n",
    "        #     msg = \"UNKNOWN\"\n",
    "        # list2 = msg.split('<')\n",
    "        # if len(list2) >0:\n",
    "        #     msg = list2[0]\n",
    "        \n",
    "        column.append(msg)\n",
    "    return column"
   ]
  },
  {
   "cell_type": "code",
   "execution_count": 5,
   "metadata": {},
   "outputs": [],
   "source": [
    "new_df = pd.DataFrame(\n",
    "    data={\n",
    "        'author': author(messages),\n",
    "        'body': body(messages)  \n",
    "        }\n",
    "\n",
    ")"
   ]
  },
  {
   "cell_type": "code",
   "execution_count": 6,
   "metadata": {},
   "outputs": [
    {
     "data": {
      "text/html": [
       "<div>\n",
       "<style scoped>\n",
       "    .dataframe tbody tr th:only-of-type {\n",
       "        vertical-align: middle;\n",
       "    }\n",
       "\n",
       "    .dataframe tbody tr th {\n",
       "        vertical-align: top;\n",
       "    }\n",
       "\n",
       "    .dataframe thead th {\n",
       "        text-align: right;\n",
       "    }\n",
       "</style>\n",
       "<table border=\"1\" class=\"dataframe\">\n",
       "  <thead>\n",
       "    <tr style=\"text-align: right;\">\n",
       "      <th></th>\n",
       "      <th>author</th>\n",
       "      <th>body</th>\n",
       "    </tr>\n",
       "  </thead>\n",
       "  <tbody>\n",
       "    <tr>\n",
       "      <th>0</th>\n",
       "      <td>phillip.allen@enron.com</td>\n",
       "      <td>Here is our forecast\\n\\n</td>\n",
       "    </tr>\n",
       "    <tr>\n",
       "      <th>1</th>\n",
       "      <td>phillip.allen@enron.com</td>\n",
       "      <td>Traveling to have a business meeting takes the...</td>\n",
       "    </tr>\n",
       "    <tr>\n",
       "      <th>2</th>\n",
       "      <td>phillip.allen@enron.com</td>\n",
       "      <td>test successful.  way to go!!!</td>\n",
       "    </tr>\n",
       "    <tr>\n",
       "      <th>3</th>\n",
       "      <td>phillip.allen@enron.com</td>\n",
       "      <td>Randy,\\n\\n Can you send me a schedule of the s...</td>\n",
       "    </tr>\n",
       "    <tr>\n",
       "      <th>4</th>\n",
       "      <td>phillip.allen@enron.com</td>\n",
       "      <td>Let's shoot for Tuesday at 11:45.</td>\n",
       "    </tr>\n",
       "    <tr>\n",
       "      <th>...</th>\n",
       "      <td>...</td>\n",
       "      <td>...</td>\n",
       "    </tr>\n",
       "    <tr>\n",
       "      <th>517396</th>\n",
       "      <td>john.zufferli@enron.com</td>\n",
       "      <td>This is a trade with OIL-SPEC-HEDGE-NG (John L...</td>\n",
       "    </tr>\n",
       "    <tr>\n",
       "      <th>517397</th>\n",
       "      <td>john.zufferli@enron.com</td>\n",
       "      <td>Some of my position is with the Alberta Term b...</td>\n",
       "    </tr>\n",
       "    <tr>\n",
       "      <th>517398</th>\n",
       "      <td>john.zufferli@enron.com</td>\n",
       "      <td>2\\n\\n</td>\n",
       "    </tr>\n",
       "    <tr>\n",
       "      <th>517399</th>\n",
       "      <td>john.zufferli@enron.com</td>\n",
       "      <td>Analyst\\t\\t\\t\\t\\tRank\\n\\nStephane Brodeur\\t\\t\\...</td>\n",
       "    </tr>\n",
       "    <tr>\n",
       "      <th>517400</th>\n",
       "      <td>john.zufferli@enron.com</td>\n",
       "      <td>i think the YMCA has a class that is for peopl...</td>\n",
       "    </tr>\n",
       "  </tbody>\n",
       "</table>\n",
       "<p>517401 rows × 2 columns</p>\n",
       "</div>"
      ],
      "text/plain": [
       "                         author  \\\n",
       "0       phillip.allen@enron.com   \n",
       "1       phillip.allen@enron.com   \n",
       "2       phillip.allen@enron.com   \n",
       "3       phillip.allen@enron.com   \n",
       "4       phillip.allen@enron.com   \n",
       "...                         ...   \n",
       "517396  john.zufferli@enron.com   \n",
       "517397  john.zufferli@enron.com   \n",
       "517398  john.zufferli@enron.com   \n",
       "517399  john.zufferli@enron.com   \n",
       "517400  john.zufferli@enron.com   \n",
       "\n",
       "                                                     body  \n",
       "0                               Here is our forecast\\n\\n   \n",
       "1       Traveling to have a business meeting takes the...  \n",
       "2                          test successful.  way to go!!!  \n",
       "3       Randy,\\n\\n Can you send me a schedule of the s...  \n",
       "4                     Let's shoot for Tuesday at 11:45.    \n",
       "...                                                   ...  \n",
       "517396  This is a trade with OIL-SPEC-HEDGE-NG (John L...  \n",
       "517397  Some of my position is with the Alberta Term b...  \n",
       "517398                                             2\\n\\n   \n",
       "517399  Analyst\\t\\t\\t\\t\\tRank\\n\\nStephane Brodeur\\t\\t\\...  \n",
       "517400  i think the YMCA has a class that is for peopl...  \n",
       "\n",
       "[517401 rows x 2 columns]"
      ]
     },
     "execution_count": 6,
     "metadata": {},
     "output_type": "execute_result"
    }
   ],
   "source": [
    "new_df"
   ]
  },
  {
   "attachments": {},
   "cell_type": "markdown",
   "metadata": {},
   "source": [
    "## Remove the data incruding \"Forwarded by\""
   ]
  },
  {
   "cell_type": "code",
   "execution_count": 7,
   "metadata": {},
   "outputs": [],
   "source": [
    "import numpy as np\n",
    "new_df = new_df[\n",
    "            (new_df['body'].str.contains('Forwarded by') == False )\n",
    "                # & ( new_df['body'] != None)\n",
    "                # & (new_df['body'] != \"\")\n",
    "                & (new_df['body'].isnull() == False)\n",
    "                # & (new_df['body'] != np.nan)\n",
    "\n",
    "                ]"
   ]
  },
  {
   "cell_type": "code",
   "execution_count": 15,
   "metadata": {},
   "outputs": [
    {
     "data": {
      "text/html": [
       "<div>\n",
       "<style scoped>\n",
       "    .dataframe tbody tr th:only-of-type {\n",
       "        vertical-align: middle;\n",
       "    }\n",
       "\n",
       "    .dataframe tbody tr th {\n",
       "        vertical-align: top;\n",
       "    }\n",
       "\n",
       "    .dataframe thead th {\n",
       "        text-align: right;\n",
       "    }\n",
       "</style>\n",
       "<table border=\"1\" class=\"dataframe\">\n",
       "  <thead>\n",
       "    <tr style=\"text-align: right;\">\n",
       "      <th></th>\n",
       "      <th>author</th>\n",
       "      <th>body</th>\n",
       "    </tr>\n",
       "  </thead>\n",
       "  <tbody>\n",
       "    <tr>\n",
       "      <th>0</th>\n",
       "      <td>phillip.allen@enron.com</td>\n",
       "      <td>Here is our forecast\\n\\n</td>\n",
       "    </tr>\n",
       "    <tr>\n",
       "      <th>1</th>\n",
       "      <td>phillip.allen@enron.com</td>\n",
       "      <td>Traveling to have a business meeting takes the...</td>\n",
       "    </tr>\n",
       "    <tr>\n",
       "      <th>2</th>\n",
       "      <td>phillip.allen@enron.com</td>\n",
       "      <td>test successful.  way to go!!!</td>\n",
       "    </tr>\n",
       "    <tr>\n",
       "      <th>3</th>\n",
       "      <td>phillip.allen@enron.com</td>\n",
       "      <td>Randy,\\n\\n Can you send me a schedule of the s...</td>\n",
       "    </tr>\n",
       "    <tr>\n",
       "      <th>4</th>\n",
       "      <td>phillip.allen@enron.com</td>\n",
       "      <td>Let's shoot for Tuesday at 11:45.</td>\n",
       "    </tr>\n",
       "    <tr>\n",
       "      <th>...</th>\n",
       "      <td>...</td>\n",
       "      <td>...</td>\n",
       "    </tr>\n",
       "    <tr>\n",
       "      <th>517396</th>\n",
       "      <td>john.zufferli@enron.com</td>\n",
       "      <td>This is a trade with OIL-SPEC-HEDGE-NG (John L...</td>\n",
       "    </tr>\n",
       "    <tr>\n",
       "      <th>517397</th>\n",
       "      <td>john.zufferli@enron.com</td>\n",
       "      <td>Some of my position is with the Alberta Term b...</td>\n",
       "    </tr>\n",
       "    <tr>\n",
       "      <th>517398</th>\n",
       "      <td>john.zufferli@enron.com</td>\n",
       "      <td>2\\n\\n</td>\n",
       "    </tr>\n",
       "    <tr>\n",
       "      <th>517399</th>\n",
       "      <td>john.zufferli@enron.com</td>\n",
       "      <td>Analyst\\t\\t\\t\\t\\tRank\\n\\nStephane Brodeur\\t\\t\\...</td>\n",
       "    </tr>\n",
       "    <tr>\n",
       "      <th>517400</th>\n",
       "      <td>john.zufferli@enron.com</td>\n",
       "      <td>i think the YMCA has a class that is for peopl...</td>\n",
       "    </tr>\n",
       "  </tbody>\n",
       "</table>\n",
       "<p>416303 rows × 2 columns</p>\n",
       "</div>"
      ],
      "text/plain": [
       "                         author  \\\n",
       "0       phillip.allen@enron.com   \n",
       "1       phillip.allen@enron.com   \n",
       "2       phillip.allen@enron.com   \n",
       "3       phillip.allen@enron.com   \n",
       "4       phillip.allen@enron.com   \n",
       "...                         ...   \n",
       "517396  john.zufferli@enron.com   \n",
       "517397  john.zufferli@enron.com   \n",
       "517398  john.zufferli@enron.com   \n",
       "517399  john.zufferli@enron.com   \n",
       "517400  john.zufferli@enron.com   \n",
       "\n",
       "                                                     body  \n",
       "0                               Here is our forecast\\n\\n   \n",
       "1       Traveling to have a business meeting takes the...  \n",
       "2                          test successful.  way to go!!!  \n",
       "3       Randy,\\n\\n Can you send me a schedule of the s...  \n",
       "4                     Let's shoot for Tuesday at 11:45.    \n",
       "...                                                   ...  \n",
       "517396  This is a trade with OIL-SPEC-HEDGE-NG (John L...  \n",
       "517397  Some of my position is with the Alberta Term b...  \n",
       "517398                                             2\\n\\n   \n",
       "517399  Analyst\\t\\t\\t\\t\\tRank\\n\\nStephane Brodeur\\t\\t\\...  \n",
       "517400  i think the YMCA has a class that is for peopl...  \n",
       "\n",
       "[416303 rows x 2 columns]"
      ]
     },
     "execution_count": 15,
     "metadata": {},
     "output_type": "execute_result"
    }
   ],
   "source": [
    "new_df"
   ]
  },
  {
   "cell_type": "code",
   "execution_count": 16,
   "metadata": {},
   "outputs": [],
   "source": [
    "authors = {} #Data type as Dictionary \n",
    "\n",
    "for author in new_df['author']:\n",
    "    if author in authors:\n",
    "        authors[author] += 1\n",
    "    else:\n",
    "        authors[author] = 1\n",
    "\n",
    "sorted_authors = sorted(authors.items(), key=lambda x: x[1], reverse=True)"
   ]
  },
  {
   "attachments": {},
   "cell_type": "markdown",
   "metadata": {},
   "source": [
    "# Remake the func words < 1000 "
   ]
  },
  {
   "cell_type": "code",
   "execution_count": 17,
   "metadata": {},
   "outputs": [],
   "source": [
    "selected_authors = []\n",
    "i = 0\n",
    "num_author =5\n",
    "word_upper_limit = 500\n",
    "for name, count in sorted_authors:\n",
    "    if i > num_author:\n",
    "        break\n",
    "    if count <= word_upper_limit:\n",
    "        selected_authors.append(name)\n",
    "        i = i + 1"
   ]
  },
  {
   "cell_type": "code",
   "execution_count": null,
   "metadata": {},
   "outputs": [],
   "source": []
  },
  {
   "cell_type": "code",
   "execution_count": 18,
   "metadata": {},
   "outputs": [
    {
     "name": "stdout",
     "output_type": "stream",
     "text": [
      "chris.stokley@enron.com: 493\n",
      "v.weldon@enron.com: 491\n",
      "j..kean@enron.com: 483\n",
      "andy.zipper@enron.com: 468\n",
      "hunter.shively@enron.com: 464\n",
      "ben.jacoby@enron.com: 458\n"
     ]
    }
   ],
   "source": [
    "for author in selected_authors:\n",
    "    print(f'{author}: {authors[author]}')"
   ]
  },
  {
   "cell_type": "code",
   "execution_count": 19,
   "metadata": {},
   "outputs": [],
   "source": [
    "reduced_df = new_df[new_df['author'] == selected_authors[0]]\n",
    "for name in selected_authors[1:]:\n",
    "    reduced_df = pd.concat([reduced_df, new_df[new_df['author'] == name]], join='inner')\n"
   ]
  },
  {
   "attachments": {},
   "cell_type": "markdown",
   "metadata": {},
   "source": [
    "# Hello world!!"
   ]
  },
  {
   "cell_type": "code",
   "execution_count": 20,
   "metadata": {},
   "outputs": [
    {
     "data": {
      "text/html": [
       "<div>\n",
       "<style scoped>\n",
       "    .dataframe tbody tr th:only-of-type {\n",
       "        vertical-align: middle;\n",
       "    }\n",
       "\n",
       "    .dataframe tbody tr th {\n",
       "        vertical-align: top;\n",
       "    }\n",
       "\n",
       "    .dataframe thead th {\n",
       "        text-align: right;\n",
       "    }\n",
       "</style>\n",
       "<table border=\"1\" class=\"dataframe\">\n",
       "  <thead>\n",
       "    <tr style=\"text-align: right;\">\n",
       "      <th></th>\n",
       "      <th>author</th>\n",
       "      <th>body</th>\n",
       "    </tr>\n",
       "  </thead>\n",
       "  <tbody>\n",
       "    <tr>\n",
       "      <th>157494</th>\n",
       "      <td>chris.stokley@enron.com</td>\n",
       "      <td>Please view the summary tab on each worksheet ...</td>\n",
       "    </tr>\n",
       "    <tr>\n",
       "      <th>159437</th>\n",
       "      <td>chris.stokley@enron.com</td>\n",
       "      <td>Please view the summary tab on each worksheet ...</td>\n",
       "    </tr>\n",
       "    <tr>\n",
       "      <th>160619</th>\n",
       "      <td>chris.stokley@enron.com</td>\n",
       "      <td>Please view the summary tab on each worksheet ...</td>\n",
       "    </tr>\n",
       "    <tr>\n",
       "      <th>282113</th>\n",
       "      <td>chris.stokley@enron.com</td>\n",
       "      <td>Please stop by this morning for cake and cooki...</td>\n",
       "    </tr>\n",
       "    <tr>\n",
       "      <th>283054</th>\n",
       "      <td>chris.stokley@enron.com</td>\n",
       "      <td>Please stop by this morning for cake and cooki...</td>\n",
       "    </tr>\n",
       "    <tr>\n",
       "      <th>...</th>\n",
       "      <td>...</td>\n",
       "      <td>...</td>\n",
       "    </tr>\n",
       "    <tr>\n",
       "      <th>439021</th>\n",
       "      <td>ben.jacoby@enron.com</td>\n",
       "      <td>I talked to Bill Butler after this came out. B...</td>\n",
       "    </tr>\n",
       "    <tr>\n",
       "      <th>439023</th>\n",
       "      <td>ben.jacoby@enron.com</td>\n",
       "      <td>Gentlemen:\\n\\nFurther to our conversation, ple...</td>\n",
       "    </tr>\n",
       "    <tr>\n",
       "      <th>439026</th>\n",
       "      <td>ben.jacoby@enron.com</td>\n",
       "      <td>I talked to Bill Butler after this came out. B...</td>\n",
       "    </tr>\n",
       "    <tr>\n",
       "      <th>440054</th>\n",
       "      <td>ben.jacoby@enron.com</td>\n",
       "      <td>Charles:\\n\\nIt was good to catch up with you t...</td>\n",
       "    </tr>\n",
       "    <tr>\n",
       "      <th>449544</th>\n",
       "      <td>ben.jacoby@enron.com</td>\n",
       "      <td>Charles:\\n\\nIt was good to catch up with you t...</td>\n",
       "    </tr>\n",
       "  </tbody>\n",
       "</table>\n",
       "<p>2857 rows × 2 columns</p>\n",
       "</div>"
      ],
      "text/plain": [
       "                         author  \\\n",
       "157494  chris.stokley@enron.com   \n",
       "159437  chris.stokley@enron.com   \n",
       "160619  chris.stokley@enron.com   \n",
       "282113  chris.stokley@enron.com   \n",
       "283054  chris.stokley@enron.com   \n",
       "...                         ...   \n",
       "439021     ben.jacoby@enron.com   \n",
       "439023     ben.jacoby@enron.com   \n",
       "439026     ben.jacoby@enron.com   \n",
       "440054     ben.jacoby@enron.com   \n",
       "449544     ben.jacoby@enron.com   \n",
       "\n",
       "                                                     body  \n",
       "157494  Please view the summary tab on each worksheet ...  \n",
       "159437  Please view the summary tab on each worksheet ...  \n",
       "160619  Please view the summary tab on each worksheet ...  \n",
       "282113  Please stop by this morning for cake and cooki...  \n",
       "283054  Please stop by this morning for cake and cooki...  \n",
       "...                                                   ...  \n",
       "439021  I talked to Bill Butler after this came out. B...  \n",
       "439023  Gentlemen:\\n\\nFurther to our conversation, ple...  \n",
       "439026  I talked to Bill Butler after this came out. B...  \n",
       "440054  Charles:\\n\\nIt was good to catch up with you t...  \n",
       "449544  Charles:\\n\\nIt was good to catch up with you t...  \n",
       "\n",
       "[2857 rows x 2 columns]"
      ]
     },
     "execution_count": 20,
     "metadata": {},
     "output_type": "execute_result"
    }
   ],
   "source": [
    "reduced_df"
   ]
  },
  {
   "cell_type": "code",
   "execution_count": 21,
   "metadata": {},
   "outputs": [],
   "source": [
    "reduced_df.to_csv(\"preprocessed_enron.csv\", index=False)"
   ]
  },
  {
   "attachments": {},
   "cell_type": "markdown",
   "metadata": {},
   "source": [
    "# 前処理終了!!!!!!"
   ]
  },
  {
   "attachments": {},
   "cell_type": "markdown",
   "metadata": {},
   "source": []
  },
  {
   "cell_type": "code",
   "execution_count": null,
   "metadata": {},
   "outputs": [],
   "source": []
  },
  {
   "attachments": {},
   "cell_type": "markdown",
   "metadata": {},
   "source": [
    "# ここから、まずTF-IDF \n"
   ]
  },
  {
   "attachments": {},
   "cell_type": "markdown",
   "metadata": {},
   "source": []
  }
 ],
 "metadata": {
  "kernelspec": {
   "display_name": "pytorch",
   "language": "python",
   "name": "python3"
  },
  "language_info": {
   "codemirror_mode": {
    "name": "ipython",
    "version": 3
   },
   "file_extension": ".py",
   "mimetype": "text/x-python",
   "name": "python",
   "nbconvert_exporter": "python",
   "pygments_lexer": "ipython3",
   "version": "3.11.4"
  },
  "orig_nbformat": 4
 },
 "nbformat": 4,
 "nbformat_minor": 2
}
