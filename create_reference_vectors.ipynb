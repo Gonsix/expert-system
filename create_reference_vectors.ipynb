{
 "cells": [
  {
   "cell_type": "code",
   "execution_count": null,
   "metadata": {},
   "outputs": [],
   "source": [
    "import pandas as pd\n",
    "\n",
    "import numpy as np\n",
    "df = pd.read_csv(\"preprocessed_enron.csv\")\n",
    "df['body'] \n",
    "\n",
    "for i, msg in enumerate(df['body']):\n",
    "    # print(i, msg)\n",
    "\n",
    "    if msg is np.nan:\n",
    "        df = df.drop(i)\n",
    "for i, msg in enumerate(df['body']):\n",
    "    if msg is np.nan:\n",
    "        print(i, msg)\n",
    "\n",
    "df = df.reset_index(drop=True)\n"
   ]
  },
  {
   "cell_type": "code",
   "execution_count": null,
   "metadata": {},
   "outputs": [],
   "source": [
    "from sklearn.feature_extraction.text import TfidfVectorizer\n",
    "from sklearn.feature_extraction.text import CountVectorizer\n",
    "documents = df['body'].tolist()\n",
    "\n",
    "# for i, msg in enumerate(df['body']):\n",
    "#     # print(i, msg)\n",
    "#     if msg is np.nan:\n",
    "#         print(i, msg)\n",
    "\n",
    "tfidf_vectorizer = TfidfVectorizer()\n",
    "tfidf_vectors = tfidf_vectorizer.fit_transform(documents) # keyword frequency list\n",
    "tf_vectorizer = CountVectorizer()\n",
    "tf_vectors = tf_vectorizer.fit_transform(documents)         # word frequency list\n",
    "# del tf_vectorizer\n",
    "# del tfidf_vectorizer# データ分割r\n"
   ]
  },
  {
   "cell_type": "code",
   "execution_count": null,
   "metadata": {},
   "outputs": [],
   "source": [
    "tfidf_vectors.shape"
   ]
  },
  {
   "attachments": {},
   "cell_type": "markdown",
   "metadata": {},
   "source": []
  },
  {
   "cell_type": "code",
   "execution_count": null,
   "metadata": {},
   "outputs": [],
   "source": [
    "# 作成された辞書を作る　:トレインデータ・テストデータ両方に対応\n",
    "words=tfidf_vectorizer.get_feature_names_out()\n",
    "print(words[5020:5025])"
   ]
  },
  {
   "cell_type": "code",
   "execution_count": null,
   "metadata": {},
   "outputs": [],
   "source": [
    "tfidf_mat = tfidf_vectors.toarray() # dead every time\n",
    "del tfidf_vectors\n",
    "tf_mat = tf_vectors.toarray()\n",
    "del tf_vectors\n",
    "df['tf'] = tf_mat.tolist()\n",
    "df['tfidf'] = tfidf_mat.tolist()"
   ]
  },
  {
   "attachments": {},
   "cell_type": "markdown",
   "metadata": {},
   "source": [
    "# データ分割"
   ]
  },
  {
   "cell_type": "code",
   "execution_count": null,
   "metadata": {},
   "outputs": [],
   "source": [
    "from sklearn.model_selection import train_test_split\n",
    "X_tfidf_train, X_tfidf_test, Y_tfidf_train, Y_tfidf_test = train_test_split(df['tfidf'],df['author'],test_size=0.2,shuffle=True)\n",
    "X_tf_train, X_tf_test, Y_tf_train, Y_tf_test = train_test_split(df['tf'],df['author'],test_size=0.2,shuffle=True)"
   ]
  },
  {
   "cell_type": "code",
   "execution_count": null,
   "metadata": {},
   "outputs": [],
   "source": [
    "# How many author?\n",
    "authors = set(Y_tfidf_test)\n",
    "authors_list = [author for author in authors]"
   ]
  },
  {
   "attachments": {},
   "cell_type": "markdown",
   "metadata": {},
   "source": [
    "# Feature_vectors の作成\n",
    "size: 著者の数\n",
    "\n",
    "Train データから作る"
   ]
  },
  {
   "cell_type": "code",
   "execution_count": null,
   "metadata": {},
   "outputs": [],
   "source": [
    "# df_X = pd.DataFrame(X_tf_train.values.tolist())\n",
    "# df_Y = pd.DataFrame(Y_tf_train.values.tolist())\n",
    "df_concat = pd.concat((X_tfidf_train, Y_tfidf_train.rename('author')), axis=1)\n",
    "\n",
    "reference_vectors = {}\n",
    "for author in authors:\n",
    "    \n",
    "    df_author = df_concat.groupby('author').get_group(author)\n",
    "\n",
    "    matrix = []\n",
    "    for row in df_author['tfidf']:\n",
    "        matrix.append(row)\n",
    "\n",
    "    np_matrix = np.array(matrix)\n",
    "\n",
    "    mean_vector = np_matrix.mean(axis=0)\n",
    "    reference_vectors[author] = mean_vector.tolist()"
   ]
  },
  {
   "cell_type": "code",
   "execution_count": null,
   "metadata": {},
   "outputs": [],
   "source": []
  },
  {
   "cell_type": "code",
   "execution_count": null,
   "metadata": {},
   "outputs": [],
   "source": [
    "authors"
   ]
  },
  {
   "cell_type": "code",
   "execution_count": null,
   "metadata": {},
   "outputs": [],
   "source": []
  },
  {
   "cell_type": "markdown",
   "metadata": {},
   "source": [
    "# Problem\n",
    "\n",
    "Tf-idf でも　the や　to などの一般的な単語が強調されてしまった。emails のデータセットの場合だと、全ての文章に含まれているわけではないので抑制作用が弱くなる\n",
    "\n",
    "# Solution\n",
    "\n",
    "nltk の　stop_words から commonly used words を　取得し、それらを省いた中でのtop20 を出す"
   ]
  },
  {
   "cell_type": "code",
   "execution_count": null,
   "metadata": {},
   "outputs": [],
   "source": [
    "import nltk\n",
    "from nltk.corpus import stopwords\n",
    " \n",
    "nltk.download('stopwords')\n",
    "stop_words = stopwords.words('english')"
   ]
  },
  {
   "cell_type": "code",
   "execution_count": 85,
   "metadata": {},
   "outputs": [
    {
     "data": {
      "text/plain": [
       "{'andy.zipper@enron.com',\n",
       " 'ben.jacoby@enron.com',\n",
       " 'chris.stokley@enron.com',\n",
       " 'hunter.shively@enron.com',\n",
       " 'j..kean@enron.com',\n",
       " 'v.weldon@enron.com'}"
      ]
     },
     "execution_count": 85,
     "metadata": {},
     "output_type": "execute_result"
    }
   ],
   "source": [
    "authors"
   ]
  },
  {
   "cell_type": "code",
   "execution_count": 93,
   "metadata": {},
   "outputs": [
    {
     "name": "stdout",
     "output_type": "stream",
     "text": [
      "['i', 'me', 'my', 'myself', 'we', 'our', 'ours', 'ourselves', 'you', \"you're\", \"you've\", \"you'll\", \"you'd\", 'your', 'yours', 'yourself', 'yourselves', 'he', 'him', 'his', 'himself', 'she', \"she's\", 'her', 'hers', 'herself', 'it', \"it's\", 'its', 'itself', 'they', 'them', 'their', 'theirs', 'themselves', 'what', 'which', 'who', 'whom', 'this', 'that', \"that'll\", 'these', 'those', 'am', 'is', 'are', 'was', 'were', 'be', 'been', 'being', 'have', 'has', 'had', 'having', 'do', 'does', 'did', 'doing', 'a', 'an', 'the', 'and', 'but', 'if', 'or', 'because', 'as', 'until', 'while', 'of', 'at', 'by', 'for', 'with', 'about', 'against', 'between', 'into', 'through', 'during', 'before', 'after', 'above', 'below', 'to', 'from', 'up', 'down', 'in', 'out', 'on', 'off', 'over', 'under', 'again', 'further', 'then', 'once', 'here', 'there', 'when', 'where', 'why', 'how', 'all', 'any', 'both', 'each', 'few', 'more', 'most', 'other', 'some', 'such', 'no', 'nor', 'not', 'only', 'own', 'same', 'so', 'than', 'too', 'very', 's', 't', 'can', 'will', 'just', 'don', \"don't\", 'should', \"should've\", 'now', 'd', 'll', 'm', 'o', 're', 've', 'y', 'ain', 'aren', \"aren't\", 'couldn', \"couldn't\", 'didn', \"didn't\", 'doesn', \"doesn't\", 'hadn', \"hadn't\", 'hasn', \"hasn't\", 'haven', \"haven't\", 'isn', \"isn't\", 'ma', 'mightn', \"mightn't\", 'mustn', \"mustn't\", 'needn', \"needn't\", 'shan', \"shan't\", 'shouldn', \"shouldn't\", 'wasn', \"wasn't\", 'weren', \"weren't\", 'won', \"won't\", 'wouldn', \"wouldn't\"]\n"
     ]
    },
    {
     "data": {
      "text/plain": [
       "179"
      ]
     },
     "execution_count": 93,
     "metadata": {},
     "output_type": "execute_result"
    }
   ],
   "source": [
    "print(stop_words)\n",
    "len(stop_words)"
   ]
  },
  {
   "cell_type": "code",
   "execution_count": 2,
   "metadata": {},
   "outputs": [],
   "source": [
    "# start からend までのwordの配列を返す\n",
    "def extract_features_words(freq_vector, words,stop_words, start=0, end=20):\n",
    "\n",
    "    setX = set(freq_vector) # 最大値を取り出すため set を作成\n",
    "\n",
    "    count = 0\n",
    "\n",
    "    result = []\n",
    "\n",
    "    while count<end:\n",
    "        max_value = max(setX)\n",
    "        max_index = freq_vector.index(max_value)\n",
    "        max_word = words[max_index]\n",
    "\n",
    "        setX.remove(max_value)  \n",
    "\n",
    "        if max_word not in stop_words:\n",
    "            if count>= start:\n",
    "                result.append(max_word)\n",
    "            count+=1\n",
    "        # count += 1\n",
    "        \n",
    "    \n",
    "    return result"
   ]
  },
  {
   "cell_type": "code",
   "execution_count": 1,
   "metadata": {},
   "outputs": [],
   "source": [
    "# start からend までのword IDの配列を返す\n",
    "def extract_features(freq_vector, words,stop_words, start=0, end=20):\n",
    "\n",
    "    setX = set(freq_vector) # 最大値を取り出すため set を作成\n",
    "\n",
    "    count = 0\n",
    "\n",
    "    result = []\n",
    "\n",
    "    while count<end:\n",
    "        max_value = max(setX)\n",
    "        max_index = freq_vector.index(max_value)\n",
    "        max_word = words[max_index]\n",
    "\n",
    "        setX.remove(max_value)  \n",
    "\n",
    "        if max_word not in stop_words:\n",
    "            if count>= start:\n",
    "                result.append(max_index)\n",
    "            count+=1\n",
    "        # count += 1\n",
    "        \n",
    "    \n",
    "    return result"
   ]
  },
  {
   "cell_type": "code",
   "execution_count": 3,
   "metadata": {},
   "outputs": [
    {
     "ename": "NameError",
     "evalue": "name 'reference_vectors' is not defined",
     "output_type": "error",
     "traceback": [
      "\u001b[0;31m---------------------------------------------------------------------------\u001b[0m",
      "\u001b[0;31mNameError\u001b[0m                                 Traceback (most recent call last)",
      "Cell \u001b[0;32mIn[3], line 1\u001b[0m\n\u001b[0;32m----> 1\u001b[0m vec \u001b[39m=\u001b[39m reference_vectors[\u001b[39m'\u001b[39m\u001b[39mv.weldon@enron.com\u001b[39m\u001b[39m'\u001b[39m]\n\u001b[1;32m      2\u001b[0m top_words \u001b[39m=\u001b[39m extract_features_words(vec, words\u001b[39m=\u001b[39mwords, stop_words\u001b[39m=\u001b[39mstop_words,  start\u001b[39m=\u001b[39m\u001b[39m0\u001b[39m, end\u001b[39m=\u001b[39m\u001b[39m150\u001b[39m)\n\u001b[1;32m      3\u001b[0m \u001b[39mprint\u001b[39m(top_words)\n",
      "\u001b[0;31mNameError\u001b[0m: name 'reference_vectors' is not defined"
     ]
    }
   ],
   "source": [
    "vec = reference_vectors['v.weldon@enron.com']\n",
    "top_words = extract_features_words(vec, words=words, stop_words=stop_words,  start=0, end=150)\n",
    "print(top_words)\n"
   ]
  },
  {
   "attachments": {},
   "cell_type": "markdown",
   "metadata": {},
   "source": [
    "# ReferenceVectors 完成\n",
    "\n",
    "## next\n",
    "\n",
    "# predict() 関数の作成"
   ]
  },
  {
   "attachments": {},
   "cell_type": "markdown",
   "metadata": {},
   "source": []
  },
  {
   "cell_type": "code",
   "execution_count": null,
   "metadata": {},
   "outputs": [],
   "source": [
    "def predict(questioned_vector, reference_vectors):\n",
    "    suspected = [author for author in authors]\n",
    "\n",
    "    comparedSize = 20\n",
    "    while(len(suspected) > 1):\n",
    "        \n",
    "        \n",
    "    \n",
    "\n",
    "    "
   ]
  },
  {
   "cell_type": "code",
   "execution_count": null,
   "metadata": {},
   "outputs": [],
   "source": [
    "\n",
    "\n"
   ]
  },
  {
   "cell_type": "code",
   "execution_count": null,
   "metadata": {},
   "outputs": [],
   "source": []
  },
  {
   "cell_type": "code",
   "execution_count": null,
   "metadata": {},
   "outputs": [],
   "source": []
  },
  {
   "attachments": {},
   "cell_type": "markdown",
   "metadata": {},
   "source": []
  }
 ],
 "metadata": {
  "kernelspec": {
   "display_name": "expsystem",
   "language": "python",
   "name": "python3"
  },
  "language_info": {
   "codemirror_mode": {
    "name": "ipython",
    "version": 3
   },
   "file_extension": ".py",
   "mimetype": "text/x-python",
   "name": "python",
   "nbconvert_exporter": "python",
   "pygments_lexer": "ipython3",
   "version": "3.11.4"
  },
  "orig_nbformat": 4
 },
 "nbformat": 4,
 "nbformat_minor": 2
}
